{
 "cells": [
  {
   "cell_type": "markdown",
   "metadata": {},
   "source": [
    "# PA 2: Classification - Support Vector Machine"
   ]
  },
  {
   "cell_type": "markdown",
   "metadata": {},
   "source": [
    "## Student Details\n",
    "Student Name and ID: Abhay Singh 1001669333\n",
    "\n",
    "Notes: When submitting, fill your name and ID in this cell.[1 point]\n",
    "\n",
    "Do not to forget to cite any external sources used by you."
   ]
  },
  {
   "cell_type": "markdown",
   "metadata": {},
   "source": [
    "Reference:\n",
    "http://scikit-learn.org\n",
    "https://stackoverflow.com"
   ]
  },
  {
   "cell_type": "markdown",
   "metadata": {},
   "source": [
    "## Programming Assignment Submission Instructions\n",
    "\n",
    "Step 5: Rename this submission file as 'yourLastName_Last4digitsofyourID_SVM.ipynb'. [1 point]\n",
    "\n",
    "Step 6: Place this file inside the folder 'PA#2_Classification_yourLastName_Option2' [1 point]"
   ]
  },
  {
   "cell_type": "markdown",
   "metadata": {},
   "source": [
    "## Programming Assignment Details\n",
    "\n",
    "Do not forget, this is an individual assignment!\n",
    "\n",
    "For this assignment use Jupyter notebook, Panda, and scikit.\n",
    "\n",
    "- Load wine dataset from sklearn datasets. [0 points]\n",
    "- Split your dataset 70% for training, and 30% for testing the classifier. [0 points]\n",
    "- Select only 2 attributes for training and testing your model. [2 points]\n",
    "- Use One-vs-One method. [1 points]\n",
    "- Try with a linear, and non-linear kernel polynomial=3 and Gaussian RBF. [6 points]\n",
    "- Use comments to explain your code and variable names.[2 points]\n",
    "- Calculate and print the confusion matrix, and the classification Report (includes: precision, recall, f1-score, and support) for linear and non-linear kernels. [6 points]\n",
    "- Plot the classifier in a 2D projection for linear and non-linear kernels. [3 points]"
   ]
  },
  {
   "cell_type": "markdown",
   "metadata": {},
   "source": [
    "## Report\n",
    "\n",
    "For each classification task you need to submit a report (Microsoft Word, or PDF) that you have to:\n",
    "- describe SVM method, [3 points]\n",
    "- What is a support vector? [3 points]\n",
    "- What is the difference between One-vs-One and One-vs-All method? [3 points]\n",
    "- explain what was your criteria for selecting the two attributes, [4 points]\n",
    "- Visualize SVM in a 2D projection for linear, and non-linear kernels. [6 points]\n",
    "- Interprete and compare the results. [6 points]\n",
    "\n",
    "Do not to forget to cite your sources!\n",
    "\n",
    "\n",
    "Step 7: Save your report file as 'yourLastName_Last4digitsofyourID_SVM.doc' [1 point]\n",
    "\n",
    "Step 8: Place this file inside the folder 'PA#2_Classification_yourLastName_Option2' [1 point]\n",
    "\n",
    "Step 9: Submit your zipped folder (PA#2_Classification_yourLastName_Option2.zip) on Blackboard"
   ]
  },
  {
   "cell_type": "markdown",
   "metadata": {},
   "source": [
    "# - - - - - - - - - - - - - - - Solution - - - - - - - - - - - - - - - - - - "
   ]
  },
  {
   "cell_type": "code",
   "execution_count": 9,
   "metadata": {},
   "outputs": [
    {
     "name": "stdout",
     "output_type": "stream",
     "text": [
      "[[   2.65  500.  ]\n",
      " [   3.94  352.  ]\n",
      " [   9.7   660.  ]\n",
      " [   5.75  450.  ]\n",
      " [   2.6   580.  ]\n",
      " [   5.64 1065.  ]\n",
      " [   4.45  420.  ]\n",
      " [   8.6   500.  ]\n",
      " [   2.06  415.  ]\n",
      " [   7.2  1150.  ]\n",
      " [   4.4   550.  ]\n",
      " [   8.9  1260.  ]\n",
      " [   6.   1270.  ]\n",
      " [   2.45  562.  ]\n",
      " [   3.6   450.  ]\n",
      " [   6.    465.  ]\n",
      " [   8.66  750.  ]\n",
      " [   2.3   406.  ]\n",
      " [   6.62  520.  ]\n",
      " [   6.9  1515.  ]\n",
      " [   4.9   415.  ]\n",
      " [   5.58  570.  ]\n",
      " [   6.2  1060.  ]\n",
      " [   3.27  680.  ]\n",
      " [   3.25  345.  ]\n",
      " [   6.6  1130.  ]\n",
      " [   6.2  1280.  ]\n",
      " [   3.7  1020.  ]\n",
      " [   5.4  1150.  ]\n",
      " [   8.21  855.  ]\n",
      " [   4.2  1095.  ]\n",
      " [   3.85  720.  ]\n",
      " [   5.04  885.  ]\n",
      " [   3.4   372.  ]\n",
      " [   7.1   425.  ]\n",
      " [   3.8   630.  ]\n",
      " [   2.45  495.  ]\n",
      " [   5.3   502.  ]\n",
      " [   4.6   392.  ]\n",
      " [   2.2   630.  ]\n",
      " [   5.6  1265.  ]\n",
      " [   5.43 1095.  ]\n",
      " [   1.95  520.  ]\n",
      " [   5.   1280.  ]\n",
      " [   3.8   607.  ]\n",
      " [   7.65  625.  ]\n",
      " [   3.95 1285.  ]\n",
      " [  10.68  695.  ]\n",
      " [   2.    325.  ]\n",
      " [   5.68 1185.  ]\n",
      " [   8.7  1680.  ]\n",
      " [   2.6   562.  ]\n",
      " [   2.65  680.  ]\n",
      " [   3.52  845.  ]\n",
      " [   2.9   562.  ]\n",
      " [   4.1   630.  ]\n",
      " [   4.92  590.  ]\n",
      " [   3.3   710.  ]\n",
      " [   2.08  365.  ]\n",
      " [   2.5   278.  ]\n",
      " [   2.8   438.  ]\n",
      " [   6.13  795.  ]\n",
      " [   3.93 1015.  ]\n",
      " [   5.05 1295.  ]\n",
      " [   4.25 1105.  ]\n",
      " [   5.85 1060.  ]\n",
      " [   5.25 1290.  ]\n",
      " [   3.05  495.  ]\n",
      " [   7.8  1480.  ]\n",
      " [   2.9   385.  ]\n",
      " [   5.24 1080.  ]\n",
      " [   2.6   937.  ]\n",
      " [   9.3   840.  ]\n",
      " [   3.74  472.  ]\n",
      " [   5.    600.  ]\n",
      " [   3.17  750.  ]\n",
      " [   7.6   640.  ]\n",
      " [   3.58  830.  ]\n",
      " [   4.6   678.  ]\n",
      " [   5.7   560.  ]\n",
      " [   9.01  480.  ]\n",
      " [   7.65  520.  ]\n",
      " [   5.65  780.  ]\n",
      " [   5.28  675.  ]\n",
      " [   3.05  520.  ]\n",
      " [   4.5   660.  ]\n",
      " [   5.45  650.  ]\n",
      " [   1.9   407.  ]\n",
      " [   6.3  1375.  ]\n",
      " [   3.    466.  ]\n",
      " [   7.3  1310.  ]\n",
      " [  10.2   835.  ]\n",
      " [   8.42  650.  ]\n",
      " [   4.36  680.  ]\n",
      " [   2.57  463.  ]\n",
      " [   3.3   488.  ]\n",
      " [   7.5   880.  ]\n",
      " [   8.5   630.  ]\n",
      " [   5.7  1285.  ]\n",
      " [   2.94  672.  ]\n",
      " [   6.38  970.  ]\n",
      " [   7.22 1045.  ]\n",
      " [   5.6  1320.  ]\n",
      " [   3.38  410.  ]\n",
      " [  13.    660.  ]\n",
      " [   2.8   380.  ]\n",
      " [   7.05 1190.  ]\n",
      " [   2.4   480.  ]\n",
      " [   2.7   312.  ]\n",
      " [   4.5   770.  ]\n",
      " [   5.5   510.  ]\n",
      " [   4.28 1035.  ]\n",
      " [   9.58  615.  ]\n",
      " [   7.5  1547.  ]\n",
      " [   5.4   530.  ]\n",
      " [   5.    515.  ]\n",
      " [   2.8   680.  ]\n",
      " [   1.74  625.  ]\n",
      " [  10.8   480.  ]\n",
      " [   2.5   625.  ]\n",
      " [   2.95  355.  ]\n",
      " [   2.7   315.  ]\n",
      " [   4.    830.  ]\n",
      " [   5.7   580.  ]]\n"
     ]
    }
   ],
   "source": [
    "#IMPORTING REQUIRED LIBRARY NAD DATABASE\n",
    "import pandas as pd\n",
    "from pandas import Series, DataFrame\n",
    "import numpy as np\n",
    "import pandas as pd\n",
    "from mlxtend.plotting import plot_decision_regions\n",
    "from sklearn.datasets import load_wine\n",
    "from sklearn.model_selection import train_test_split\n",
    "from sklearn.feature_selection import SelectKBest,chi2\n",
    "from sklearn.svm import SVC\n",
    "from sklearn.metrics import classification_report, confusion_matrix  \n",
    "\n",
    "#LOADING DATABASE\n",
    "data = load_wine()\n",
    "\n",
    "#SPLITTING INTO TEST AND TRAIN SET WITH TEST SIZE =0.3\n",
    "X_train, X_test, y_train, y_test = train_test_split(data.data, data.target, test_size=0.3)\n",
    "#EXTRACTION OF BEST 2 ATTRIBUTES WITH CHI2\n",
    "X_train_New = SelectKBest(score_func=chi2, k=2).fit_transform(X_train, y_train)\n",
    "X_test_New = SelectKBest(score_func=chi2, k=2).fit_transform(X_test, y_test)\n",
    "X_train_New."
   ]
  },
  {
   "cell_type": "code",
   "execution_count": 2,
   "metadata": {},
   "outputs": [
    {
     "name": "stdout",
     "output_type": "stream",
     "text": [
      "[[15  1  1]\n",
      " [ 1 21  0]\n",
      " [ 0  3 12]]\n",
      "             precision    recall  f1-score   support\n",
      "\n",
      "          0       0.94      0.88      0.91        17\n",
      "          1       0.84      0.95      0.89        22\n",
      "          2       0.92      0.80      0.86        15\n",
      "\n",
      "avg / total       0.89      0.89      0.89        54\n",
      "\n"
     ]
    },
    {
     "data": {
      "image/png": "[encoded data removed]",
      "text/plain": [
       "<Figure size 432x288 with 1 Axes>"
      ]
     },
     "metadata": {},
     "output_type": "display_data"
    }
   ],
   "source": [
    "#LINEAR KERNEL WITH SVM WITH ONE-VS-ONE METHOD\n",
    "svclassifier_LINEAR = SVC(kernel='linear',decision_function_shape='ovo')  \n",
    "svclassifier_LINEAR.fit(X_train_New, y_train)\n",
    "#PLOTTING SVM\n",
    "plot_decision_regions(X_train_New, y_train, clf=svclassifier_LINEAR)\n",
    "#TESTING WITH TEST SET\n",
    "y_pred_LINEAR=svclassifier_LINEAR.predict(X_test_New)\n",
    "\n",
    "#PRINTING CONFUSION MATRIX AND CLASSIFICATION REPORT\n",
    "print(confusion_matrix(y_test,y_pred_LINEAR))  \n",
    "print(classification_report(y_test,y_pred_LINEAR))  "
   ]
  },
  {
   "cell_type": "code",
   "execution_count": 3,
   "metadata": {},
   "outputs": [
    {
     "name": "stdout",
     "output_type": "stream",
     "text": [
      "[[16  0  1]\n",
      " [ 1 12  9]\n",
      " [ 1  4 10]]\n",
      "             precision    recall  f1-score   support\n",
      "\n",
      "          0       0.89      0.94      0.91        17\n",
      "          1       0.75      0.55      0.63        22\n",
      "          2       0.50      0.67      0.57        15\n",
      "\n",
      "avg / total       0.72      0.70      0.70        54\n",
      "\n"
     ]
    },
    {
     "data": {
      "image/png": "[encoded data removed]",
      "text/plain": [
       "<Figure size 432x288 with 1 Axes>"
      ]
     },
     "metadata": {},
     "output_type": "display_data"
    }
   ],
   "source": [
    "#GAUSSIAN RBF KERNEL\n",
    "svclassifier_RBF = SVC(kernel='rbf',gamma=0.0001)  \n",
    "svclassifier_RBF.fit(X_train_New, y_train)\n",
    "#PLOTTIG SVM\n",
    "plot_decision_regions(X_train_New, y_train, clf=svclassifier_RBF, legend=2)\n",
    "#PRIDICTING WITH TEST SET\n",
    "y_pred_RBF=svclassifier_RBF.predict(X_test_New)\n",
    "\n",
    "#PRINTING CONFUSION MATRIX AND CLASSIFICATION REPORT\n",
    "print(confusion_matrix(y_test,y_pred_RBF))  \n",
    "print(classification_report(y_test,y_pred_RBF))  "
   ]
  },
  {
   "cell_type": "code",
   "execution_count": 4,
   "metadata": {},
   "outputs": [
    {
     "name": "stdout",
     "output_type": "stream",
     "text": [
      "[[17  0  0]\n",
      " [ 1 20  1]\n",
      " [ 0  1 14]]\n",
      "             precision    recall  f1-score   support\n",
      "\n",
      "          0       0.94      1.00      0.97        17\n",
      "          1       0.95      0.91      0.93        22\n",
      "          2       0.93      0.93      0.93        15\n",
      "\n",
      "avg / total       0.94      0.94      0.94        54\n",
      "\n"
     ]
    },
    {
     "data": {
      "image/png": "[encoded data removed]",
      "text/plain": [
       "<Figure size 432x288 with 1 Axes>"
      ]
     },
     "metadata": {},
     "output_type": "display_data"
    }
   ],
   "source": [
    "#NON-LINEAR KERNEL WITH DEGREE=3 VALUE OF GAMMA AND C HAS BEEN CHANGED  FOR FAST PROCESSING\n",
    "svclassifier_POLY = SVC(C=.01,gamma=0.01, kernel='poly', degree=3, decision_function_shape='ovo')  \n",
    "svclassifier_POLY.fit(X_train_New, y_train)\n",
    "#PLOTTING SVM\n",
    "plot_decision_regions(X_train_New, y_train, clf=svclassifier_POLY, legend=2)\n",
    "y_pred_POLY=svclassifier_POLY.predict(X_test_New)\n",
    "\n",
    "#PRINTING CONFUSION MATRIX AND CLASSIFICATION REPORT\n",
    "print(confusion_matrix(y_test,y_pred_POLY))  \n",
    "print(classification_report(y_test,y_pred_POLY))  "
   ]
  }
 ],
 "metadata": {
  "kernelspec": {
   "display_name": "Python 3",
   "language": "python",
   "name": "python3"
  },
  "language_info": {
   "codemirror_mode": {
    "name": "ipython",
    "version": 3
   },
   "file_extension": ".py",
   "mimetype": "text/x-python",
   "name": "python",
   "nbconvert_exporter": "python",
   "pygments_lexer": "ipython3",
   "version": "3.6.5"
  }
 },
 "nbformat": 4,
 "nbformat_minor": 1
}
